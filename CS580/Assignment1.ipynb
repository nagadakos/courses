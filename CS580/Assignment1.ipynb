{
 "cells": [
  {
   "cell_type": "code",
   "execution_count": 73,
   "metadata": {},
   "outputs": [],
   "source": [
    "import numpy as np\n",
    "import os\n",
    "import pandas as pd\n",
    "import csv\n",
    "import re\n",
    "from collections import Counter"
   ]
  },
  {
   "cell_type": "code",
   "execution_count": 127,
   "metadata": {},
   "outputs": [
    {
     "name": "stdout",
     "output_type": "stream",
     "text": [
      "[(1, 0.02), (2, 0.04), ('rest', 0.01), ('SDC', 0.003)]\n",
      "M:  [[3.e+00 4.e+00 5.e+00 6.e+00 7.e+00 8.e+00 9.e+00 1.e+01 2.e+01 3.e+01\n",
      "  4.e+01 5.e+01 1.e+00 2.e+00]\n",
      " [1.e-02 1.e-02 1.e-02 1.e-02 1.e-02 1.e-02 1.e-02 1.e-02 1.e-02 1.e-02\n",
      "  1.e-02 1.e-02 2.e-02 4.e-02]]\n"
     ]
    }
   ],
   "source": [
    "def load_data(fPath):\n",
    "    data = []\n",
    "    maxNumber = 0\n",
    "    with open(fPath, newline='') as csvfile:\n",
    "        dataFile = csv.reader(csvfile, delimiter=',', skipinitialspace=True)\n",
    "        for row in dataFile:\n",
    "            curMax = int(max(row))\n",
    "            maxNumber = curMax if curMax > maxNumber else maxNumber\n",
    "            data.append(row)\n",
    "    \n",
    "    return data, maxNumber\n",
    "\n",
    "def load_params(fPath):\n",
    "    params = []\n",
    "    with open(fPath, newline='') as csvfile:\n",
    "        dataFile = csv.reader(csvfile, delimiter=',', skipinitialspace=True)\n",
    "        # Extract data in tuples. Split line delimited by '=' then find if the left term has a number key or refers to rest or SDC terms.\n",
    "        for row in dataFile:\n",
    "            key, val = row[0].split('=')            \n",
    "            key = re.findall(r'\\d+', key)\n",
    "            key = int(key[0]) if key  != [] else ('rest' if 'rest' in row[0] else 'SDC')           \n",
    "            params.append((key,float(val)))\n",
    "    print(params)\n",
    "    # format params into a sorted array\n",
    "    return params\n",
    "\n",
    "def create_M(data, rawParams):\n",
    "    uniqueItems = []\n",
    "    # Concat all list in a big one, so we can find the distinct items\n",
    "    for row in data:\n",
    "        uniqueItems += row\n",
    "    uniqueItems = np.sort(np.array(np.unique(uniqueItems), dtype=int))\n",
    "    #print(uniqueItems)\n",
    "    # Initialize param file. Column 0 has the items, columns 1 the MIS stated in 'rest' for init\n",
    "    params = np.ones((2,len(uniqueItems)))\n",
    "    params[0,:] = uniqueItems; params[1,:] = rawParams[-2][1]\n",
    "    #print(params, rawParams[-2][1])\n",
    "    # Find which items are given in the raw Params file. Last 2 lines are always rest and SDC\n",
    "    for i in rawParams[:-2]:\n",
    "        item, sup = i[0],i[1]\n",
    "        params[1, np.where(params[0,:] == item)] = sup   \n",
    "    # Now sort the params array to create M\n",
    "    indices = np.argsort(params[1,:])\n",
    "    M = np.array([params[0, indices], params[1,indices]])\n",
    "    print('M: ', M)\n",
    "    return M, rawParams[-1][1]\n",
    "\n",
    "dataPath = \"dummyData1.txt\"\n",
    "paramsPath = \"dummyParams1.txt\"\n",
    "T, maxNumber = load_data(dataPath)\n",
    "rawParams = load_params(paramsPath)\n",
    "M, SDC = create_M(T, rawParams)"
   ]
  },
  {
   "cell_type": "code",
   "execution_count": 128,
   "metadata": {},
   "outputs": [
    {
     "name": "stdout",
     "output_type": "stream",
     "text": [
      "[['10', '50', '30', '40'], ['1', '2', '4', '6', '8', '9', '10'], ['3', '4', '5'], ['7', '9', '20']]\n"
     ]
    }
   ],
   "source": [
    "def init_pass(M,T):\n",
    "    \n",
    "    return 1\n",
    "print(T)"
   ]
  },
  {
   "cell_type": "code",
   "execution_count": null,
   "metadata": {},
   "outputs": [],
   "source": []
  },
  {
   "cell_type": "code",
   "execution_count": null,
   "metadata": {},
   "outputs": [],
   "source": []
  }
 ],
 "metadata": {
  "kernelspec": {
   "display_name": "Python 3",
   "language": "python",
   "name": "python3"
  },
  "language_info": {
   "codemirror_mode": {
    "name": "ipython",
    "version": 3
   },
   "file_extension": ".py",
   "mimetype": "text/x-python",
   "name": "python",
   "nbconvert_exporter": "python",
   "pygments_lexer": "ipython3",
   "version": "3.8.0"
  }
 },
 "nbformat": 4,
 "nbformat_minor": 4
}
