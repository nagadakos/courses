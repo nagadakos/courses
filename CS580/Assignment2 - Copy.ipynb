{
 "cells": [
  {
   "cell_type": "code",
   "execution_count": 2,
   "metadata": {},
   "outputs": [],
   "source": [
    "import numpy as np\n",
    "import os\n",
    "import pandas as pd\n",
    "from collections import Counter"
   ]
  },
  {
   "cell_type": "code",
   "execution_count": 4,
   "metadata": {},
   "outputs": [],
   "source": [
    "fPath = \"dummy2.txt\"\n",
    "data = load_data(fPath)\n",
    "#print(data[data[:,-1] == 'Yes'])"
   ]
  },
  {
   "cell_type": "code",
   "execution_count": 14,
   "metadata": {},
   "outputs": [
    {
     "name": "stderr",
     "output_type": "stream",
     "text": [
      "<ipython-input-13-216b72134e2d>:43: FutureWarning: Using a non-tuple sequence for multidimensional indexing is deprecated; use `arr[tuple(seq)]` instead of `arr[seq]`. In the future this will be interpreted as an array index, `arr[np.array(seq)]`, which will result either in an error or a different result.\n",
      "  keys, freqs = (np.unique(data[[data[:,-1] == c]][:,f], return_counts = True))\n"
     ]
    }
   ],
   "source": [
    "dataDict = count_features_per_class(data)"
   ]
  },
  {
   "cell_type": "code",
   "execution_count": 16,
   "metadata": {},
   "outputs": [
    {
     "name": "stdout",
     "output_type": "stream",
     "text": [
      "{'a': [2, 1], 'c': [1, 0], 'v': [0, 1], 'z': [1, 0]}\n",
      "[[2 1]\n",
      " [1 0]\n",
      " [0 1]\n",
      " [1 0]] 6\n",
      "6\n",
      "[[1 2]\n",
      " [1 0]\n",
      " [1 0]\n",
      " [1 0]] 6\n",
      "12\n",
      "[[1 1]\n",
      " [2 0]\n",
      " [1 0]\n",
      " [0 1]] 6\n",
      "18\n",
      "[[2 1]\n",
      " [1 0]\n",
      " [1 1]] 6\n",
      "24\n"
     ]
    }
   ],
   "source": [
    "comp_feat_entropy(dataDict)"
   ]
  },
  {
   "cell_type": "code",
   "execution_count": 93,
   "metadata": {},
   "outputs": [
    {
     "data": {
      "text/plain": [
       "1.8464393446710154"
      ]
     },
     "execution_count": 93,
     "metadata": {},
     "output_type": "execute_result"
    }
   ],
   "source": [
    "dumCLass = [0.1, 0.3, 0.4, 0.2]\n",
    "compute_entropy(dumCLass)"
   ]
  },
  {
   "cell_type": "code",
   "execution_count": null,
   "metadata": {},
   "outputs": [],
   "source": []
  }
 ],
 "metadata": {
  "kernelspec": {
   "display_name": "Python 3",
   "language": "python",
   "name": "python3"
  },
  "language_info": {
   "codemirror_mode": {
    "name": "ipython",
    "version": 3
   },
   "file_extension": ".py",
   "mimetype": "text/x-python",
   "name": "python",
   "nbconvert_exporter": "python",
   "pygments_lexer": "ipython3",
   "version": "3.8.0"
  }
 },
 "nbformat": 4,
 "nbformat_minor": 4
}
