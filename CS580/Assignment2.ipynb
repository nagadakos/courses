{
 "cells": [
  {
   "cell_type": "code",
   "execution_count": 2,
   "metadata": {},
   "outputs": [],
   "source": [
    "import numpy as np\n",
    "import os\n",
    "import pandas as pd\n",
    "from collections import Counter"
   ]
  },
  {
   "cell_type": "code",
   "execution_count": 15,
   "metadata": {},
   "outputs": [],
   "source": [
    "def load_data(fPath):\n",
    "    df = pd.read_csv(fPath, header = None, skipinitialspace = True)\n",
    "    # get classes to list\n",
    "    data = df.iloc[:,:].to_numpy().copy()\n",
    "    # get data to list\n",
    "    #print(data.groupby(by=0).count())\n",
    "    #print(df)\n",
    "    #df2 = df.groupby([4,0], as_index = False).count()\n",
    "    #print(df2)\n",
    "    \n",
    "    #df1 = df.iloc[:, 0:-1].to_numpy()\n",
    "    #print(df1)\n",
    "    return data\n",
    "\n",
    "def count_values_from_frame(data):\n",
    "    # get columns of frame\n",
    "    columns = list(data)\n",
    "    featureCounts = dict()\n",
    "    # Count appearences of elements in all columns\n",
    "    for c in columns:\n",
    "        featureCounts[c] = df[c].value_counts()\n",
    "    #print(featureCounts)\n",
    "    return\n",
    "\n",
    "def count_features_per_class(data, normalize = True):\n",
    "    classes = np.unique(data[:,-1])\n",
    "    #print(data)\n",
    "    #counter=collections.Counter(a)\n",
    "    # Create a list of dictionaries, one for each feature. Each dictionary contains an entry for each unique feature value(key)\n",
    "    # and a list that contains the freq count for each class.\n",
    "    #attributes = [[dict( ((key for key in a[0]), [0 for c in range(0, len(classes))]) for a in zip(np.unique(data[:,f], return_counts = True)))] for f in range(data.shape[1]-1)]\n",
    "    #attributes = [[dict( (a, [0 for c in range(0, len(classes))]) for a in np.unique(data[:,f]))] for f in range(data.shape[1]-1)]\n",
    "    #print(attributes)\n",
    "    counterDict = []#[{} for x in range(data.shape[1]-1)]\n",
    "    #\n",
    "    for j, c in enumerate(classes):\n",
    "        for f in range(data.shape[1]-1):\n",
    "            allKeys = np.unique(data[:,f])\n",
    "            #print(allKeys)\n",
    "            if len(counterDict) < f+1:\n",
    "                counterDict.append(dict( (a, [0 for c in range(0, len(classes))]) for a in allKeys))\n",
    "            \n",
    "            keys, freqs = (np.unique(data[[data[:,-1] == c]][:,f], return_counts = True))\n",
    "            for i,k in enumerate(keys):\n",
    "                counterDict[f][k][j] = freqs[i] \n",
    "\n",
    "    #print(counterDict)\n",
    "    return counterDict\n",
    "    \n",
    "def comp_feat_entropy(dataDict):\n",
    "    \"\"\"\n",
    "        ARGUMENTS: dataDict (list of dicts): A list holding one dictionary per feature. Each discionary holds an entry with a kew for each unique variable.\n",
    "                                             Each variable's (key's) value is a list containing the accurencies each variable appears in each class. So the struct\n",
    "                             is: numOfFeatures Dicts of: numOfVariables in Feature Keys with: numOfclasses occurencies.\n",
    "    \"\"\"\n",
    "    total = 0\n",
    "    print(dataDict[0])\n",
    "    # Iterate over features\n",
    "    for i, f in enumerate(dataDict):\n",
    "        a = np.array([f[k] for k in f.keys()])\n",
    "       print(a, a.sum())\n",
    "        total += np.sum(a)\n",
    "        print(a, a.sum())\n",
    "        featFracs = [np.sum(f)/total for f in a]\n",
    "        print(total)\n",
    "    \n",
    "def compute_attribure_entropy():\n",
    "    a =0 \n",
    "def compute_class_entropy(classFractures):\n",
    "    entropy = -np.sum((classFractures[:] * np.log2(classFractures[:])))\n",
    "    return entropy"
   ]
  },
  {
   "cell_type": "code",
   "execution_count": 4,
   "metadata": {},
   "outputs": [],
   "source": [
    "fPath = \"dummy2.txt\"\n",
    "data = load_data(fPath)\n",
    "#print(data[data[:,-1] == 'Yes'])"
   ]
  },
  {
   "cell_type": "code",
   "execution_count": 14,
   "metadata": {},
   "outputs": [
    {
     "name": "stderr",
     "output_type": "stream",
     "text": [
      "<ipython-input-13-216b72134e2d>:43: FutureWarning: Using a non-tuple sequence for multidimensional indexing is deprecated; use `arr[tuple(seq)]` instead of `arr[seq]`. In the future this will be interpreted as an array index, `arr[np.array(seq)]`, which will result either in an error or a different result.\n",
      "  keys, freqs = (np.unique(data[[data[:,-1] == c]][:,f], return_counts = True))\n"
     ]
    }
   ],
   "source": [
    "dataDict = count_features_per_class(data)"
   ]
  },
  {
   "cell_type": "code",
   "execution_count": 16,
   "metadata": {},
   "outputs": [
    {
     "name": "stdout",
     "output_type": "stream",
     "text": [
      "{'a': [2, 1], 'c': [1, 0], 'v': [0, 1], 'z': [1, 0]}\n",
      "[[2 1]\n",
      " [1 0]\n",
      " [0 1]\n",
      " [1 0]] 6\n",
      "6\n",
      "[[1 2]\n",
      " [1 0]\n",
      " [1 0]\n",
      " [1 0]] 6\n",
      "12\n",
      "[[1 1]\n",
      " [2 0]\n",
      " [1 0]\n",
      " [0 1]] 6\n",
      "18\n",
      "[[2 1]\n",
      " [1 0]\n",
      " [1 1]] 6\n",
      "24\n"
     ]
    }
   ],
   "source": [
    "comp_feat_entropy(dataDict)"
   ]
  },
  {
   "cell_type": "code",
   "execution_count": 93,
   "metadata": {},
   "outputs": [
    {
     "data": {
      "text/plain": [
       "1.8464393446710154"
      ]
     },
     "execution_count": 93,
     "metadata": {},
     "output_type": "execute_result"
    }
   ],
   "source": [
    "dumCLass = [0.1, 0.3, 0.4, 0.2]\n",
    "compute_entropy(dumCLass)"
   ]
  },
  {
   "cell_type": "code",
   "execution_count": null,
   "metadata": {},
   "outputs": [],
   "source": []
  }
 ],
 "metadata": {
  "kernelspec": {
   "display_name": "Python 3",
   "language": "python",
   "name": "python3"
  },
  "language_info": {
   "codemirror_mode": {
    "name": "ipython",
    "version": 3
   },
   "file_extension": ".py",
   "mimetype": "text/x-python",
   "name": "python",
   "nbconvert_exporter": "python",
   "pygments_lexer": "ipython3",
   "version": "3.8.0"
  }
 },
 "nbformat": 4,
 "nbformat_minor": 4
}
