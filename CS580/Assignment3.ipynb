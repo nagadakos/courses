{
 "cells": [
  {
   "cell_type": "code",
   "execution_count": 21,
   "metadata": {},
   "outputs": [],
   "source": [
    "import numpy as np\n",
    "import os\n",
    "import pandas as pd\n",
    "from collections import Counter\n",
    "import matplotlib.pyplot as plt"
   ]
  },
  {
   "cell_type": "code",
   "execution_count": 22,
   "metadata": {},
   "outputs": [
    {
     "name": "stdout",
     "output_type": "stream",
     "text": [
      "[[ 1.    0.3   1.  ]\n",
      " [ 2.    0.4   1.  ]\n",
      " [ 3.    0.7   1.  ]\n",
      " [ 4.    0.9   1.  ]\n",
      " [ 5.    0.6   1.  ]\n",
      " [ 6.    0.45  1.  ]\n",
      " [ 7.    0.7   1.  ]\n",
      " [ 8.    0.8   1.  ]\n",
      " [ 9.    0.4   1.  ]\n",
      " [10.    0.8   1.  ]\n",
      " [11.    0.9   1.  ]\n",
      " [12.    1.    1.  ]\n",
      " [13.    0.67  1.  ]\n",
      " [14.    0.77  1.  ]\n",
      " [15.    0.56  1.  ]\n",
      " [16.    0.3   0.  ]\n",
      " [17.    0.2   0.  ]\n",
      " [18.    0.1   0.  ]\n",
      " [19.    0.6   0.  ]\n",
      " [20.    0.7   0.  ]\n",
      " [21.    0.3   0.  ]\n",
      " [22.    0.23  0.  ]\n",
      " [23.    0.34  0.  ]\n",
      " [24.    0.45  0.  ]\n",
      " [25.    0.34  0.  ]\n",
      " [26.    0.67  0.  ]\n",
      " [27.    0.1   0.  ]\n",
      " [28.    0.24  0.  ]\n",
      " [29.    0.56  0.  ]\n",
      " [30.    0.33  0.  ]] (30, 3)\n"
     ]
    }
   ],
   "source": [
    "def load_data(fPath):\n",
    "    df = pd.read_csv(fPath, header = None, skipinitialspace = True)\n",
    "    # get classes to list\n",
    "    data = df.iloc[:,:].to_numpy().copy()\n",
    "    # get data to list\n",
    "    #print(data.groupby(by=0).count())\n",
    "    #print(df)\n",
    "    #df2 = df.groupby([4,0], as_index = False).count()\n",
    "    #print(df2)\n",
    "    \n",
    "    #df1 = df.iloc[:, 0:-1].to_numpy()\n",
    "    #print(df1)\n",
    "    return data\n",
    "\n",
    "fPath = \"B:/Workspaces/courses/CS580/assignments-1-2-3-testData/assign-3-testData/3-data-1.txt\"#\"dummy3.txt\"\n",
    "data = load_data(fPath)\n",
    "print(data, data.shape)"
   ]
  },
  {
   "cell_type": "markdown",
   "metadata": {},
   "source": [
    "##### Compute (1) the classification accuracy, (2) the positive class (represented by 1) precision, recall,\n",
    "##### F1 score, and (3) TPR (true positive rate), FPR (false positive rate), sensitivity, and specificity.\n",
    "##### Negative class is represented by 0. If Pr(1 | x) > 0.5, we predict x as positive; otherwise negative."
   ]
  },
  {
   "cell_type": "code",
   "execution_count": 26,
   "metadata": {},
   "outputs": [],
   "source": [
    "def convert_prob_to_class(dataIn):\n",
    "    data = dataIn.copy()\n",
    "    data[:,1] = np.where(data[:,1]>0,1,0)\n",
    "    \n",
    "    return data\n",
    "\n",
    "data1 = convert_prob_to_class(data)"
   ]
  },
  {
   "cell_type": "code",
   "execution_count": 27,
   "metadata": {},
   "outputs": [
    {
     "name": "stdout",
     "output_type": "stream",
     "text": [
      "15.0 15.0\n",
      "15 0 15 0\n",
      "{'tp': 15, 'tn': 0, 'fp': 15, 'fn': 0, 'accuracy': 0.5, 'precision': 0.5, 'recall': 1.0, 'f1': 0.6666666666666666, 'sensitivity': 1.0, 'TPR': 1.0, 'FNR': 0.0, 'FPR': 1.0, 'specificity': 0.0, 'total': 30, 'predPositive': 30, 'prednegative': 0, 'totalPos': 15, 'totalNeg': 15}\n"
     ]
    }
   ],
   "source": [
    "def compute_confusion_matrix(data):\n",
    "    total = data.shape[0]\n",
    "    # 1. Compute all Correct and wrong classifications\n",
    "    wrong = np.abs(data[:,1] - data[:,2]).sum()\n",
    "    correct = data.shape[0]- wrong\n",
    "    accuracy = correct / total\n",
    "    # Comptue all positive and negative predictions\n",
    "    predPositive = data[data[:,1] ==1].shape[0]\n",
    "    predNegative = data[data[:,1] ==0].shape[0]\n",
    "     # Compute True positive, True Negative, Fase Positive, False Negative\n",
    "    tp = data[ (data[:,1] ==1) & (data[:,2] == 1)].shape[0]\n",
    "    tn = data[ (data[:,1] ==0) & (data[:,2] == 0)].shape[0]\n",
    "    fp = data[ (data[:,1] ==1) & (data[:,2] == 0)].shape[0]\n",
    "    fn = data[ (data[:,1] ==0) & (data[:,2] == 1)].shape[0]\n",
    "    # Compute the total Positive and Negative (true conditions)\n",
    "    totalPos = data[data[:,2] ==1].shape[0]\n",
    "    totalNeg = data[data[:,2] ==0].shape[0]\n",
    "    print(correct, wrong)\n",
    "    print(tp,tn,fp,fn)\n",
    "    # 2. Precision, Recall, F1\n",
    "    precision = tp / predPositive\n",
    "    recall = tp / totalPos\n",
    "    f1 = 2 * (precision * recall) / (precision+recall)\n",
    "    # 3. True Positive Rate, False Positive Rate Sensitivity, Specificity\n",
    "    sensitivity = TPR = recall \n",
    "    FNR = fn / totalPos\n",
    "    FPR = fp / totalNeg\n",
    "    specificity = tn / totalNeg\n",
    "    fullM = {'tp':tp, 'tn':tn,'fp':fp,'fn':fn,'accuracy':accuracy, 'precision':precision,'recall':recall, 'f1':f1,'sensitivity':sensitivity,\n",
    "            'TPR':TPR,'FNR':FNR, 'FPR':FPR, 'specificity':specificity, 'total':total, 'predPositive':predPositive,'prednegative':predNegative,'totalPos':totalPos, 'totalNeg':totalNeg}\n",
    "    sortM = {'Accuracy':accuracy, 'Precision':precision,'Recall':recall, 'F1':f1,'TPR':TPR,'FPR':FPR, 'Specificity':specificity, 'Sensitivity':sensitivity}\n",
    "    return fullM, sortM\n",
    "    \n",
    "fullConfMatrix, shortM = compute_confusion_matrix(data1)\n",
    "print(fullConfMatrix)"
   ]
  },
  {
   "cell_type": "code",
   "execution_count": 36,
   "metadata": {},
   "outputs": [
    {
     "name": "stdout",
     "output_type": "stream",
     "text": [
      "(nagada2\n",
      "(Accuracy 0.5)\n",
      "(Precision 0.5)\n",
      "(Recall 1.0)\n",
      "(F1 0.6666666666666666)\n",
      "(TPR 1.0)\n",
      "(FPR 1.0)\n",
      "(Specificity 0.0)\n",
      "(Sensitivity 1.0)\n",
      ")\n"
     ]
    }
   ],
   "source": [
    "def conf_mat_to_str(confMatrix, sId =''):\n",
    "    #print(*['({} {})\\n'.format(k,v) for k,v in confMatrix.items()])\n",
    "    retStr = '('+ str(sId) +'\\n' + '\\n'.join('({} {})'.format(k,v) for k,v in confMatrix.items()) + '\\n)'\n",
    "    return retStr\n",
    "\n",
    "def write_string_to_file(s, wFile = '3_nagada2_nikolaos_agadakos.txt'):\n",
    "    \n",
    "    try:\n",
    "        with open(wFile, 'w') as wf:\n",
    "            wf.write(s)\n",
    "    except Exception as e:\n",
    "        print(e)\n",
    " \n",
    "sId = 'nagada2'\n",
    "confStr = conf_mat_to_str(shortM, sId = sId)\n",
    "saveFile = '_'.join(('3', sId, 'nikolaos_agadakos.txt'))\n",
    "write_string_to_file(confStr , wFile = saveFile)\n",
    "print(confStr)"
   ]
  },
  {
   "cell_type": "code",
   "execution_count": 38,
   "metadata": {},
   "outputs": [
    {
     "name": "stdout",
     "output_type": "stream",
     "text": [
      "AUC: 0.7911111111111111\n"
     ]
    },
    {
     "data": {
      "image/png": "[encoded data removed]",
      "text/plain": [
       "<Figure size 432x288 with 1 Axes>"
      ]
     },
     "metadata": {
      "needs_background": "light"
     },
     "output_type": "display_data"
    }
   ],
   "source": [
    "def compute_AUC(dataIn, threshold=np.arange(0.0,1, 0.1), sFile = '3_nagada2_nikolaos_agadakos_ROC.png'):\n",
    "    TPR =  np.zeros(len(threshold))\n",
    "    FPR  = np.zeros(len(threshold))\n",
    "    for i,t in enumerate(threshold):\n",
    "        data = dataIn.copy()\n",
    "        data[:,1] = np.where(data[:,1]>t,1,0)\n",
    "        tp = data[ (data[:,1] ==1) & (data[:,2] == 1)].shape[0]\n",
    "        tn = data[ (data[:,1] ==0) & (data[:,2] == 0)].shape[0]\n",
    "        fp = data[ (data[:,1] ==1) & (data[:,2] == 0)].shape[0]\n",
    "        fn = data[ (data[:,1] ==0) & (data[:,2] == 1)].shape[0]\n",
    "        # Comptue all positive and negative predictions\n",
    "        predPositive = data[data[:,1] ==1].shape[0]\n",
    "        predNegative = data[data[:,1] ==0].shape[0]\n",
    "        # Compute the total Positive and Negative (true conditions)\n",
    "        totalPos = data[data[:,2] ==1].shape[0]\n",
    "        totalNeg = data[data[:,2] ==0].shape[0]\n",
    "        TPR[i] = tp / totalPos\n",
    "        FPR[i] = fp / totalNeg\n",
    "    #print(threshold, TPR, FPR,tp,tn,fp,fn)\n",
    "    # PLot AUC\n",
    "    fig, ax = plt.subplots()\n",
    "    plt.title(\"ROC\")\n",
    "    plt.xlabel(\"FPR\")\n",
    "    plt.ylabel(\"TPR\")\n",
    "    \n",
    "    for i, t in enumerate(threshold):\n",
    "        #print(t, FPR[i], TPR[i])\n",
    "        ax.annotate('t:{0:.1f}'.format(t), (threshold[-1-i], TPR[i]), arrowprops={'arrowstyle':'->'})\n",
    "    plt.plot(FPR, TPR)\n",
    "    plt.savefig(sFile)\n",
    "    # Manually compute AUC, using the trapezoid rule for integration.\n",
    "    # Keep in mind that we compute this in reverse ( >threshold: 0 become class 1 so FPR,TRP =1 at index 1 of the arrays)\n",
    "    # In order to accuratey compute the AUC in this setting we actaully take 1-area\n",
    "    area = leftX = 0\n",
    "    for tpr, fpr in zip(TPR,FPR):\n",
    "        area += (fpr -leftX) * (tpr)\n",
    "        leftX = fpr\n",
    "        #print(\"Current area: \", 1-area)\n",
    "    print(\"AUC:\", 1-area)\n",
    "    return 1-area\n",
    "        \n",
    "auc = compute_AUC(data, sFile = '_'.join(('3', sId, 'nikolaos_agadakos_ROC.png')))"
   ]
  },
  {
   "cell_type": "code",
   "execution_count": 101,
   "metadata": {},
   "outputs": [
    {
     "data": {
      "text/plain": [
       "0.3333333333333333"
      ]
     },
     "execution_count": 101,
     "metadata": {},
     "output_type": "execute_result"
    }
   ],
   "source": []
  },
  {
   "cell_type": "code",
   "execution_count": 102,
   "metadata": {},
   "outputs": [
    {
     "name": "stdout",
     "output_type": "stream",
     "text": [
      "[0.         0.         0.66666667 0.66666667 1.        ] [0.  0.5 0.5 1.  1. ] [1.7 0.7 0.6 0.4 0.3]\n"
     ]
    }
   ],
   "source": []
  },
  {
   "cell_type": "code",
   "execution_count": null,
   "metadata": {},
   "outputs": [],
   "source": []
  }
 ],
 "metadata": {
  "kernelspec": {
   "display_name": "Python 3",
   "language": "python",
   "name": "python3"
  },
  "language_info": {
   "codemirror_mode": {
    "name": "ipython",
    "version": 3
   },
   "file_extension": ".py",
   "mimetype": "text/x-python",
   "name": "python",
   "nbconvert_exporter": "python",
   "pygments_lexer": "ipython3",
   "version": "3.8.0"
  }
 },
 "nbformat": 4,
 "nbformat_minor": 4
}
