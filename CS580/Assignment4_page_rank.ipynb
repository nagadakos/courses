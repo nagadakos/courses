{
 "cells": [
  {
   "cell_type": "code",
   "execution_count": 37,
   "metadata": {},
   "outputs": [],
   "source": [
    "import numpy as np\n",
    "import re"
   ]
  },
  {
   "cell_type": "code",
   "execution_count": 38,
   "metadata": {},
   "outputs": [
    {
     "name": "stdout",
     "output_type": "stream",
     "text": [
      "(9, 9) [[0. 1. 0. 0. 0. 0. 0. 1. 0.]\n",
      " [0. 0. 1. 0. 0. 0. 0. 1. 1.]\n",
      " [0. 0. 0. 1. 0. 0. 0. 0. 0.]\n",
      " [0. 1. 0. 0. 1. 0. 0. 0. 1.]\n",
      " [0. 0. 0. 0. 0. 0. 0. 0. 0.]\n",
      " [0. 0. 0. 0. 1. 0. 0. 0. 1.]\n",
      " [1. 0. 0. 0. 0. 0. 0. 1. 1.]\n",
      " [0. 0. 0. 0. 0. 0. 0. 0. 0.]\n",
      " [0. 0. 0. 0. 1. 0. 0. 0. 0.]]\n"
     ]
    }
   ],
   "source": [
    "def read_adj_file(file = './dummy_adjascency.txt'):\n",
    "    A = []\n",
    "    with open(file , 'r', encoding = 'utf-8') as f:\n",
    "        for line in f:\n",
    "            line2 = line.rstrip()\n",
    "            line2 = line2.split('\\t')\n",
    "            #print(line2)\n",
    "            line2 = re.sub('[(|)|\\n]', '', line) # remove (,) and \\n characters \n",
    "            #line2 = [i for i in line2.split(' ') if i != ''] # tokenize line\n",
    "            line2 = line2.split('\\t')\n",
    "            #print(line2)\n",
    "            if line2 != []:\n",
    "                A.append(line2)\n",
    "    return np.asarray(A, dtype = np.float)\n",
    "\n",
    "fIdx = 2\n",
    "rawA = read_adj_file(file = './assign-4-testData/dataset'+str(fIdx)+'.txt')\n",
    "print(rawA.shape, rawA)"
   ]
  },
  {
   "cell_type": "code",
   "execution_count": 39,
   "metadata": {},
   "outputs": [
    {
     "name": "stdout",
     "output_type": "stream",
     "text": [
      "Initial matrix:  [[0.         0.5        0.         0.         0.         0.\n",
      "  0.         0.5        0.        ]\n",
      " [0.         0.         0.33333333 0.         0.         0.\n",
      "  0.         0.33333333 0.33333333]\n",
      " [0.         0.         0.         1.         0.         0.\n",
      "  0.         0.         0.        ]\n",
      " [0.         0.33333333 0.         0.         0.33333333 0.\n",
      "  0.         0.         0.33333333]\n",
      " [0.         0.         0.         0.         0.         0.\n",
      "  0.         0.         0.        ]\n",
      " [0.         0.         0.         0.         0.5        0.\n",
      "  0.         0.         0.5       ]\n",
      " [0.33333333 0.         0.         0.         0.         0.\n",
      "  0.         0.33333333 0.33333333]\n",
      " [0.         0.         0.         0.         0.         0.\n",
      "  0.         0.         0.        ]\n",
      " [0.         0.         0.         0.         1.         0.\n",
      "  0.         0.         0.        ]]\n",
      "\n",
      "Stochastic A:  [[0.         0.5        0.         0.         0.         0.\n",
      "  0.         0.5        0.        ]\n",
      " [0.         0.         0.33333333 0.         0.         0.\n",
      "  0.         0.33333333 0.33333333]\n",
      " [0.         0.         0.         1.         0.         0.\n",
      "  0.         0.         0.        ]\n",
      " [0.         0.33333333 0.         0.         0.33333333 0.\n",
      "  0.         0.         0.33333333]\n",
      " [0.11111111 0.11111111 0.11111111 0.11111111 0.11111111 0.11111111\n",
      "  0.11111111 0.11111111 0.11111111]\n",
      " [0.         0.         0.         0.         0.5        0.\n",
      "  0.         0.         0.5       ]\n",
      " [0.33333333 0.         0.         0.         0.         0.\n",
      "  0.         0.33333333 0.33333333]\n",
      " [0.11111111 0.11111111 0.11111111 0.11111111 0.11111111 0.11111111\n",
      "  0.11111111 0.11111111 0.11111111]\n",
      " [0.         0.         0.         0.         1.         0.\n",
      "  0.         0.         0.        ]]\n",
      "\n",
      "Irreducible A:  [[0.1  0.1  0.1  0.1  0.2  0.1  0.4  0.2  0.1 ]\n",
      " [0.55 0.1  0.1  0.4  0.2  0.1  0.1  0.2  0.1 ]\n",
      " [0.1  0.4  0.1  0.1  0.2  0.1  0.1  0.2  0.1 ]\n",
      " [0.1  0.1  1.   0.1  0.2  0.1  0.1  0.2  0.1 ]\n",
      " [0.1  0.1  0.1  0.4  0.2  0.55 0.1  0.2  1.  ]\n",
      " [0.1  0.1  0.1  0.1  0.2  0.1  0.1  0.2  0.1 ]\n",
      " [0.1  0.1  0.1  0.1  0.2  0.1  0.1  0.2  0.1 ]\n",
      " [0.55 0.4  0.1  0.1  0.2  0.1  0.4  0.2  0.1 ]\n",
      " [0.1  0.4  0.1  0.4  0.2  0.55 0.4  0.2  0.1 ]]\n"
     ]
    }
   ],
   "source": [
    "def to_stochastic(A):\n",
    "    ''' DESCRIPTION: THis function rectifies adjascency matrix A to being irreducible, stochastic and aperdiodic.\n",
    "                     It adds a link from every page to all others, and make sure the matrix is stochastic.\n",
    "        RETURNS: A (np 2D array): rectified adjascency matrix A.\n",
    "    '''\n",
    "    A_ = A.copy()\n",
    "    # Sum all line elemnts to see which line is 0 aka dangling page\n",
    "    normalizer = np.sum(A_, axis =1)\n",
    "    # Find all non dnagling pages\n",
    "    idxs = np.where(normalizer!=0)[0]\n",
    "    # Find all dangling pages\n",
    "    nullIdxs = np.where(normalizer==0)[0]\n",
    "    normalizer[nullIdxs]= A_.shape[0]\n",
    "    # Compute all the existing non null transition probs (excercise requirements, not necessary result)\n",
    "    initA = A / normalizer.reshape(A_.shape[0],1)\n",
    "    # Add a uniform probality to all such lines\n",
    "    A_[nullIdxs,: ] = 1 \n",
    "    # Reshape divider into a column vectors so each row of A is divided by each row of normalizer\n",
    "    A_ /= normalizer.reshape(A_.shape[0],1)\n",
    "    #print(normalizer, A_ )\n",
    "    return A_, initA\n",
    "\n",
    "def to_irreducible(A, d=0.9):\n",
    "    \n",
    "    return (1-d) + d* A.transpose()\n",
    "\n",
    "A, initA = to_stochastic(rawA)\n",
    "irredA = to_irreducible(A)\n",
    "\n",
    "print(\"Initial matrix: \", initA)\n",
    "print(\"\\nStochastic A: \", A)\n",
    "print(\"\\nIrreducible A: \", irredA)"
   ]
  },
  {
   "cell_type": "code",
   "execution_count": 40,
   "metadata": {},
   "outputs": [
    {
     "name": "stdout",
     "output_type": "stream",
     "text": [
      "[0.11111111 0.11111111 0.11111111 0.11111111 0.11111111 0.11111111\n",
      " 0.11111111 0.11111111 0.11111111] (9,) (9, 9)\n",
      "(9,) (9, 9) (9,)\n",
      "Page: 0, Rank: 0.23\n",
      " Page: 1, Rank: 0.36\n",
      " Page: 2, Rank: 0.27\n",
      " Page: 3, Rank: 0.38\n",
      " Page: 4, Rank: 0.68\n",
      " Page: 5, Rank: 0.18\n",
      " Page: 6, Rank: 0.18\n",
      " Page: 7, Rank: 0.40\n",
      " Page: 8, Rank: 0.48\n",
      "\n",
      "( 0.2307222222222222 0.35872222222222216 0.2717222222222222 0.37888888888888883 0.6792222222222221 0.18438888888888888 0.18438888888888888 0.40405555555555545 0.47588888888888875\n"
     ]
    }
   ],
   "source": [
    "def power_iterate(A, d= 0.9, epsilon = 0.0001, maxIters = 2):\n",
    "    # Innit page rank as 1 over the num of pages\n",
    "    P_k = np.ones((A.shape[0])) / A.shape[0]\n",
    "    print(P_k, P_k.shape, A.shape)\n",
    "    k = 1\n",
    "    delta = 1\n",
    "    while (delta > epsilon) and (k <= maxIters):\n",
    "        #print(k)\n",
    "        P_k_1 = (1-d) + d* np.matmul(A.transpose(), P_k)\n",
    "        k += 1\n",
    "        delta = np.linalg.norm(P_k_1 - P_k, 1)\n",
    "        P_k = P_k_1\n",
    "    return P_k_1\n",
    "\n",
    "def compute_rank(A, P, d = 0.9):\n",
    "    PR = np.zeros((P.shape))\n",
    "    print(P.shape,A.shape, A[:,2].shape)\n",
    "    for i, p in enumerate(P):\n",
    "        PR[i] = (1-d) + d * np.sum(A[:,i]* P)\n",
    "    return PR\n",
    "\n",
    "P = power_iterate(A)\n",
    "PR = compute_rank(A,P)\n",
    "print(*['Page: {}, Rank: {:.2f}\\n'.format(i, r) for i,r in enumerate(PR)])\n",
    "print('(', *[r for r in PR])"
   ]
  },
  {
   "cell_type": "code",
   "execution_count": 41,
   "metadata": {},
   "outputs": [
    {
     "name": "stdout",
     "output_type": "stream",
     "text": [
      "0.00 0.50 0.00 0.00 0.00 0.00 0.00 0.50 0.00\n",
      "0.00 0.00 0.33 0.00 0.00 0.00 0.00 0.33 0.33\n",
      "0.00 0.00 0.00 1.00 0.00 0.00 0.00 0.00 0.00\n",
      "0.00 0.33 0.00 0.00 0.33 0.00 0.00 0.00 0.33\n",
      "0.00 0.00 0.00 0.00 0.00 0.00 0.00 0.00 0.00\n",
      "0.00 0.00 0.00 0.00 0.50 0.00 0.00 0.00 0.50\n",
      "0.33 0.00 0.00 0.00 0.00 0.00 0.00 0.33 0.33\n",
      "0.00 0.00 0.00 0.00 0.00 0.00 0.00 0.00 0.00\n",
      "0.00 0.00 0.00 0.00 1.00 0.00 0.00 0.00 0.00\n",
      "0.00 0.50 0.00 0.00 0.00 0.00 0.00 0.50 0.00\n",
      "0.00 0.00 0.33 0.00 0.00 0.00 0.00 0.33 0.33\n",
      "0.00 0.00 0.00 1.00 0.00 0.00 0.00 0.00 0.00\n",
      "0.00 0.33 0.00 0.00 0.33 0.00 0.00 0.00 0.33\n",
      "0.11 0.11 0.11 0.11 0.11 0.11 0.11 0.11 0.11\n",
      "0.00 0.00 0.00 0.00 0.50 0.00 0.00 0.00 0.50\n",
      "0.33 0.00 0.00 0.00 0.00 0.00 0.00 0.33 0.33\n",
      "0.11 0.11 0.11 0.11 0.11 0.11 0.11 0.11 0.11\n",
      "0.00 0.00 0.00 0.00 1.00 0.00 0.00 0.00 0.00\n",
      "0.10 0.10 0.10 0.10 0.20 0.10 0.40 0.20 0.10\n",
      "0.55 0.10 0.10 0.40 0.20 0.10 0.10 0.20 0.10\n",
      "0.10 0.40 0.10 0.10 0.20 0.10 0.10 0.20 0.10\n",
      "0.10 0.10 1.00 0.10 0.20 0.10 0.10 0.20 0.10\n",
      "0.10 0.10 0.10 0.40 0.20 0.55 0.10 0.20 1.00\n",
      "0.10 0.10 0.10 0.10 0.20 0.10 0.10 0.20 0.10\n",
      "0.10 0.10 0.10 0.10 0.20 0.10 0.10 0.20 0.10\n",
      "0.55 0.40 0.10 0.10 0.20 0.10 0.40 0.20 0.10\n",
      "0.10 0.40 0.10 0.40 0.20 0.55 0.40 0.20 0.10\n"
     ]
    }
   ],
   "source": [
    "def write_to_file(initA, A, irredA, PR, path = './Assignment4_Results/result.txt'):\n",
    "    args = [initA, A, irredA, PR]\n",
    "    with open(path, 'w', encoding ='utf-8') as f:\n",
    "        \n",
    "        for idx, arg in enumerate(args):\n",
    "            m = arg\n",
    "            s = '\\n(' if idx != 0 else '('\n",
    "            f.write(s)\n",
    "            for i in range(m.shape[0]):\n",
    "                if len(m.shape)> 1:\n",
    "                    print(*['{:.2f}'.format(a) for a in m[i,:] ])\n",
    "                    f.write(' '.join((['{:.2f}'.format(a) for a in m[i,:] ])))\n",
    "                    s = '\\n' if i != m.shape[0]-1 else ')'\n",
    "                else:\n",
    "                    f.write(' '.join((['{:.2f}'.format(m[i])])))\n",
    "                    s = ' ' if i != m.shape[0]-1 else ')'\n",
    "                f.write(s)\n",
    "        \n",
    "# StudentID1_StudentID2_FirstName1_Lastname1_FirstName2_Lastname2.zip     \n",
    "# myId = 91\n",
    "write_to_file(initA, A, irredA, PR, path = './Assignment4_Results/result'+str(fIdx)+'.txt')"
   ]
  },
  {
   "cell_type": "code",
   "execution_count": null,
   "metadata": {},
   "outputs": [],
   "source": []
  }
 ],
 "metadata": {
  "kernelspec": {
   "display_name": "Python 3",
   "language": "python",
   "name": "python3"
  },
  "language_info": {
   "codemirror_mode": {
    "name": "ipython",
    "version": 3
   },
   "file_extension": ".py",
   "mimetype": "text/x-python",
   "name": "python",
   "nbconvert_exporter": "python",
   "pygments_lexer": "ipython3",
   "version": "3.8.0"
  }
 },
 "nbformat": 4,
 "nbformat_minor": 4
}
