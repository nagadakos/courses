{
 "cells": [
  {
   "cell_type": "code",
   "execution_count": 2,
   "metadata": {},
   "outputs": [],
   "source": [
    "import numpy as np\n",
    "import re"
   ]
  },
  {
   "cell_type": "code",
   "execution_count": 69,
   "metadata": {},
   "outputs": [
    {
     "name": "stdout",
     "output_type": "stream",
     "text": [
      "(6, 6) [[0. 1. 1. 0. 0. 0.]\n",
      " [1. 0. 1. 0. 1. 1.]\n",
      " [0. 1. 0. 0. 1. 1.]\n",
      " [0. 0. 1. 0. 1. 0.]\n",
      " [0. 0. 0. 0. 0. 0.]\n",
      " [0. 0. 0. 0. 0. 0.]]\n"
     ]
    }
   ],
   "source": [
    "def read_adj_file(file = './dummy_adjascency.txt'):\n",
    "    A = []\n",
    "    with open(file , 'r', encoding = 'utf-8') as f:\n",
    "        for line in f:\n",
    "            line2 = re.sub('[(|)|\\n]', '', line) # remove (,) and \\n characters \n",
    "            line2 = [i for i in line2.split(' ') if i != ''] # tokenize line\n",
    "            #print(line2)\n",
    "            if line2 != []:\n",
    "                A.append(line2)\n",
    "    return np.asarray(A, dtype = np.float)\n",
    "\n",
    "rawA = read_adj_file()\n",
    "print(rawA.shape, rawA)"
   ]
  },
  {
   "cell_type": "code",
   "execution_count": 128,
   "metadata": {},
   "outputs": [
    {
     "name": "stdout",
     "output_type": "stream",
     "text": [
      "Initial matrix:  [[0.         0.5        0.5        0.         0.         0.        ]\n",
      " [0.25       0.         0.25       0.         0.25       0.25      ]\n",
      " [0.         0.33333333 0.         0.         0.33333333 0.33333333]\n",
      " [0.         0.         0.5        0.         0.5        0.        ]\n",
      " [0.         0.         0.         0.         0.         0.        ]\n",
      " [0.         0.         0.         0.         0.         0.        ]]\n",
      "\n",
      "Stochastic A:  [[0.         0.5        0.5        0.         0.         0.        ]\n",
      " [0.25       0.         0.25       0.         0.25       0.25      ]\n",
      " [0.         0.33333333 0.         0.         0.33333333 0.33333333]\n",
      " [0.         0.         0.5        0.         0.5        0.        ]\n",
      " [0.16666667 0.16666667 0.16666667 0.16666667 0.16666667 0.16666667]\n",
      " [0.16666667 0.16666667 0.16666667 0.16666667 0.16666667 0.16666667]]\n",
      "\n",
      "Irreducible A:  [[0.1   0.325 0.1   0.1   0.25  0.25 ]\n",
      " [0.55  0.1   0.4   0.1   0.25  0.25 ]\n",
      " [0.55  0.325 0.1   0.55  0.25  0.25 ]\n",
      " [0.1   0.1   0.1   0.1   0.25  0.25 ]\n",
      " [0.1   0.325 0.4   0.55  0.25  0.25 ]\n",
      " [0.1   0.325 0.4   0.1   0.25  0.25 ]]\n"
     ]
    }
   ],
   "source": [
    "def to_stochastic(A):\n",
    "    ''' DESCRIPTION: THis function rectifies adjascency matrix A to being irreducible, stochastic and aperdiodic.\n",
    "                     It adds a link from every page to all others, and make sure the matrix is stochastic.\n",
    "        RETURNS: A (np 2D array): rectified adjascency matrix A.\n",
    "    '''\n",
    "    A_ = A.copy()\n",
    "    # Sum all line elemnts to see which line is 0 aka dangling page\n",
    "    normalizer = np.sum(A_, axis =1)\n",
    "    # Find all non dnagling pages\n",
    "    idxs = np.where(normalizer!=0)[0]\n",
    "    # Find all dangling pages\n",
    "    nullIdxs = np.where(normalizer==0)[0]\n",
    "    normalizer[nullIdxs]= A_.shape[0]\n",
    "    # Compute all the existing non null transition probs (excercise requirements, not necessary result)\n",
    "    initA = A / normalizer.reshape(A_.shape[0],1)\n",
    "    # Add a uniform probality to all such lines\n",
    "    A_[nullIdxs,: ] = 1 \n",
    "    # Reshape divider into a column vectors so each row of A is divided by each row of normalizer\n",
    "    A_ /= normalizer.reshape(A_.shape[0],1)\n",
    "    #print(normalizer, A_ )\n",
    "    return A_, initA\n",
    "\n",
    "def to_irreducible(A, d=0.9):\n",
    "    \n",
    "    return (1-d) + d* A.transpose()\n",
    "\n",
    "A, initA = to_stochastic(rawA)\n",
    "irredA = to_irreducible(A)\n",
    "\n",
    "print(\"Initial matrix: \", initA)\n",
    "print(\"\\nStochastic A: \", A)\n",
    "print(\"\\nIrreducible A: \", A_irred)"
   ]
  },
  {
   "cell_type": "code",
   "execution_count": 145,
   "metadata": {},
   "outputs": [
    {
     "name": "stdout",
     "output_type": "stream",
     "text": [
      "[0.16666667 0.16666667 0.16666667 0.16666667 0.16666667 0.16666667] (6,) (6, 6)\n",
      "(6,) (6, 6) (6,)\n",
      "Page: 0, Rank: 0.30\n",
      " Page: 1, Rank: 0.44\n",
      " Page: 2, Rank: 0.49\n",
      " Page: 3, Rank: 0.21\n",
      " Page: 4, Rank: 0.50\n",
      " Page: 5, Rank: 0.42\n",
      "\n",
      "( 0.2966406249999999 0.4426562499999999 0.48873437499999994 0.21381249999999993 0.49764062499999984 0.4155156249999999\n",
      "1\n"
     ]
    }
   ],
   "source": [
    "def power_iterate(A, d= 0.9, epsilon = 0.0001, maxIters = 2):\n",
    "    # Innit page rank as 1 over the num of pages\n",
    "    P_k = np.ones((A.shape[0])) / A.shape[0]\n",
    "    print(P_k, P_k.shape, A.shape)\n",
    "    k = 1\n",
    "    delta = 1\n",
    "    while (delta > epsilon) and (k <= maxIters):\n",
    "        #print(k)\n",
    "        P_k_1 = (1-d) + d* np.matmul(A.transpose(), P_k)\n",
    "        k += 1\n",
    "        delta = np.linalg.norm(P_k_1 - P_k, 1)\n",
    "        P_k = P_k_1\n",
    "    return P_k_1\n",
    "\n",
    "def compute_rank(A, P, d = 0.9):\n",
    "    PR = np.zeros((P.shape))\n",
    "    print(P.shape,A.shape, A[:,2].shape)\n",
    "    for i, p in enumerate(P):\n",
    "        PR[i] = (1-d) + d * np.sum(A[:,i]* P)\n",
    "    return PR\n",
    "\n",
    "P = power_iterate(A)\n",
    "PR = compute_rank(A,P)\n",
    "print(*['Page: {}, Rank: {:.2f}\\n'.format(i, r) for i,r in enumerate(PR)])\n",
    "print('(', *[r for r in PR])"
   ]
  },
  {
   "cell_type": "code",
   "execution_count": 155,
   "metadata": {},
   "outputs": [
    {
     "name": "stdout",
     "output_type": "stream",
     "text": [
      "0.00 0.50 0.50 0.00 0.00 0.00\n",
      "0.25 0.00 0.25 0.00 0.25 0.25\n",
      "0.00 0.33 0.00 0.00 0.33 0.33\n",
      "0.00 0.00 0.50 0.00 0.50 0.00\n",
      "0.00 0.00 0.00 0.00 0.00 0.00\n",
      "0.00 0.00 0.00 0.00 0.00 0.00\n",
      "0.00 0.50 0.50 0.00 0.00 0.00\n",
      "0.25 0.00 0.25 0.00 0.25 0.25\n",
      "0.00 0.33 0.00 0.00 0.33 0.33\n",
      "0.00 0.00 0.50 0.00 0.50 0.00\n",
      "0.17 0.17 0.17 0.17 0.17 0.17\n",
      "0.17 0.17 0.17 0.17 0.17 0.17\n",
      "0.10 0.32 0.10 0.10 0.25 0.25\n",
      "0.55 0.10 0.40 0.10 0.25 0.25\n",
      "0.55 0.32 0.10 0.55 0.25 0.25\n",
      "0.10 0.10 0.10 0.10 0.25 0.25\n",
      "0.10 0.32 0.40 0.55 0.25 0.25\n",
      "0.10 0.32 0.40 0.10 0.25 0.25\n"
     ]
    }
   ],
   "source": [
    "def write_to_file(initA, A, irredA, PR, path = './assignment4_results.txt'):\n",
    "    args = [initA, A, irredA, PR]\n",
    "    with open(path, 'w', encoding ='utf-8') as f:\n",
    "        \n",
    "        for idx, arg in enumerate(args):\n",
    "            m = arg\n",
    "            s = '\\n(' if idx != 0 else '('\n",
    "            f.write(s)\n",
    "            for i in range(m.shape[0]):\n",
    "                if len(m.shape)> 1:\n",
    "                    print(*['{:.2f}'.format(a) for a in m[i,:] ])\n",
    "                    f.write(' '.join((['{:.2f}'.format(a) for a in m[i,:] ])))\n",
    "                    s = '\\n' if i != m.shape[0]-1 else ')'\n",
    "                else:\n",
    "                    f.write(' '.join((['{:.2f}'.format(m[i])])))\n",
    "                    s = ' ' if i != m.shape[0]-1 else ')'\n",
    "                f.write(s)\n",
    "        \n",
    "        \n",
    "write_to_file(initA, A, irredA, PR)"
   ]
  },
  {
   "cell_type": "code",
   "execution_count": null,
   "metadata": {},
   "outputs": [],
   "source": []
  }
 ],
 "metadata": {
  "kernelspec": {
   "display_name": "Python 3",
   "language": "python",
   "name": "python3"
  },
  "language_info": {
   "codemirror_mode": {
    "name": "ipython",
    "version": 3
   },
   "file_extension": ".py",
   "mimetype": "text/x-python",
   "name": "python",
   "nbconvert_exporter": "python",
   "pygments_lexer": "ipython3",
   "version": "3.8.0"
  }
 },
 "nbformat": 4,
 "nbformat_minor": 4
}
