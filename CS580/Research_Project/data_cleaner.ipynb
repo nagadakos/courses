{
 "cells": [
  {
   "cell_type": "code",
   "execution_count": 1,
   "metadata": {},
   "outputs": [],
   "source": [
    "import numpy as np\n",
    "import os\n",
    "import sys\n",
    "import pandas as pd \n",
    "import re\n",
    "import en_core_web_sm"
   ]
  },
  {
   "cell_type": "code",
   "execution_count": 2,
   "metadata": {},
   "outputs": [],
   "source": [
    "# Load data from xlsx file using pandas\n",
    "file = r'Data/training-Obama-Romney-tweets.xlsx'\n",
    "df = pd.read_excel(file)"
   ]
  },
  {
   "cell_type": "code",
   "execution_count": 3,
   "metadata": {},
   "outputs": [
    {
     "name": "stdout",
     "output_type": "stream",
     "text": [
      "(5724,)\n",
      "7    I was raised as a Democrat  left the party yea...\n",
      "8    The <e>Obama camp</e> can't afford to lower ex...\n",
      "Name: Anootated tweet, dtype: object\n"
     ]
    }
   ],
   "source": [
    "# Extract only the tweets and labels; dates and the rest are irrelevant\n",
    "# Label Legend: 1: positive, -1: negative, 0: neutral, 2: mixed\n",
    "data = df['Anootated tweet'][1:]\n",
    "labels = df['Unnamed: 4'][1:].to_numpy()\n",
    "# Diseregard all tweets of mixed type, that is class 2\n",
    "idxs = np.where(labels != 2)[0]\n",
    "data = data.iloc[idxs]\n",
    "print(idxs.shape)\n",
    "print(data.iloc[3:5])"
   ]
  },
  {
   "cell_type": "code",
   "execution_count": 43,
   "metadata": {},
   "outputs": [],
   "source": [
    "nlp = en_core_web_sm.load()\n"
   ]
  },
  {
   "cell_type": "code",
   "execution_count": 50,
   "metadata": {},
   "outputs": [],
   "source": [
    "text = '#<e>obama</e> debates that Cracker Ass Cracker tonight... I will be tuned in! #TeamObama\\n sdasda adsasda adaasada adsadaa'\n",
    "doc = nlp(text)"
   ]
  },
  {
   "cell_type": "code",
   "execution_count": 55,
   "metadata": {},
   "outputs": [
    {
     "data": {
      "text/plain": [
       "True"
      ]
     },
     "execution_count": 55,
     "metadata": {},
     "output_type": "execute_result"
    }
   ],
   "source": [
    "t = 'obama</e>'\n",
    "\"</e\" in t"
   ]
  },
  {
   "cell_type": "code",
   "execution_count": null,
   "metadata": {},
   "outputs": [],
   "source": []
  }
 ],
 "metadata": {
  "kernelspec": {
   "display_name": "Python 3",
   "language": "python",
   "name": "python3"
  },
  "language_info": {
   "codemirror_mode": {
    "name": "ipython",
    "version": 3
   },
   "file_extension": ".py",
   "mimetype": "text/x-python",
   "name": "python",
   "nbconvert_exporter": "python",
   "pygments_lexer": "ipython3",
   "version": "3.8.0"
  }
 },
 "nbformat": 4,
 "nbformat_minor": 4
}
