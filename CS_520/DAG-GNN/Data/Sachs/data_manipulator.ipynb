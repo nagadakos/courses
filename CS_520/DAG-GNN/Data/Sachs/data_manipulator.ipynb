{
 "cells": [
  {
   "cell_type": "code",
   "execution_count": 77,
   "metadata": {},
   "outputs": [],
   "source": [
    "import pickle as pkl\n",
    "import pandas as pk\n",
    "import numpy as np\n",
    "import networkx as nx\n",
    "import csv\n"
   ]
  },
  {
   "cell_type": "code",
   "execution_count": 119,
   "metadata": {},
   "outputs": [],
   "source": [
    "file = '1. cd3cd28.xls'\n",
    "graphFile = 'ground_truth_graph.txt'\n",
    "df = pd.read_excel(file, header = None)\n",
    "\n",
    "df2 = pd.read_csv(graphFile, header = None)"
   ]
  },
  {
   "cell_type": "code",
   "execution_count": 124,
   "metadata": {},
   "outputs": [
    {
     "name": "stdout",
     "output_type": "stream",
     "text": [
      "[0. 1. 0. 0. 0. 0. 0. 0. 0. 0. 0.] (11,)\n",
      "[0. 0. 0. 0. 0. 1. 0. 0. 0. 0. 0.] (11,)\n",
      "[0. 0. 0. 1. 1. 0. 0. 0. 0. 0. 0.] (11,)\n",
      "[0. 0. 0. 0. 0. 0. 0. 0. 0. 0. 0.] (11,)\n",
      "[0. 0. 0. 1. 0. 0. 0. 0. 0. 0. 0.] (11,)\n",
      "[0. 0. 0. 0. 0. 0. 1. 0. 0. 0. 0.] (11,)\n",
      "[0. 0. 0. 0. 0. 0. 0. 0. 0. 0. 0.] (11,)\n",
      "[1. 1. 0. 0. 0. 1. 1. 0. 0. 1. 1.] (11,)\n",
      "[1. 1. 0. 0. 0. 0. 0. 1. 0. 1. 1.] (11,)\n",
      "[0. 0. 0. 0. 0. 0. 0. 0. 0. 0. 0.] (11,)\n",
      "[0. 0. 0. 0. 0. 0. 0. 0. 0. 0. 0.] (11,)\n",
      "11\n"
     ]
    }
   ],
   "source": [
    "# Discard Headers and turn to list for storage\n",
    "table = df.to_numpy()[1:,:].tolist()\n",
    "graph = df2.values.tolist()\n",
    "g = np.zeros((11,11))\n",
    "for i, row in enumerate(graph):\n",
    "    if i > 0:\n",
    "        r = row[0].split(' ')[1:]\n",
    "        r = [float(i) for i in r if i != '']\n",
    "        print(np.array(r), np.array(r).shape)\n",
    "        g[i-1,:] = np.array(r)\n",
    "        \n",
    "        \n",
    "print(len(table[1]))"
   ]
  },
  {
   "cell_type": "code",
   "execution_count": 121,
   "metadata": {},
   "outputs": [],
   "source": [
    "with open('data1.pkl','wb') as f:\n",
    "    pkl.dump(table, f)\n",
    "    \n",
    "with open('data1_graph.pkl','wb') as f:\n",
    "    pkl.dump(g, f)"
   ]
  },
  {
   "cell_type": "code",
   "execution_count": 151,
   "metadata": {},
   "outputs": [],
   "source": [
    "dataFolder1 = '../Synthetic_data/gaussian_different_noise_var/'\n",
    "dataFolder2 = '../Synthetic_data/gaussian_same_noise_var/'\n",
    "dataFolder3 = '../Synthetic_data/lingam_different_noise_var/'\n",
    "dataFolder4 = '../Synthetic_data/lingam_same_noise_var/'\n",
    "dFolders = [dataFolder1, dataFolder2, dataFolder3, dataFolder4 ]\n",
    "\n",
    "for folder in dFolders:\n",
    "    cDAG1 = np.load(folder +'DAG.npy')\n",
    "    data1 = np.load(folder+'data.npy')\n",
    "    with open(folder+'data.pkl', 'wb') as f:\n",
    "        pkl.dump(data1, f)\n",
    "    with open(folder+'data_graph.pkl', 'wb') as f:\n",
    "        pkl.dump(cDAG1, f)"
   ]
  },
  {
   "cell_type": "code",
   "execution_count": 146,
   "metadata": {},
   "outputs": [],
   "source": [
    "with open(dataFolder1+'data.pkl', 'wb') as f:\n",
    "    pkl.dump(data1, f)\n",
    "with open(dataFolder1+'data_graph.pkl', 'wb') as f:\n",
    "    pkl.dump(cDAG1, f)"
   ]
  },
  {
   "cell_type": "code",
   "execution_count": 147,
   "metadata": {},
   "outputs": [],
   "source": [
    "s = np.load('../../src/trueG_halted2.npy')"
   ]
  },
  {
   "cell_type": "code",
   "execution_count": 148,
   "metadata": {},
   "outputs": [
    {
     "data": {
      "text/plain": [
       "array([[ 0. , -1. ,  0. , -0.6,  0. , -1. ,  0. ,  1.7,  0. ,  0. ,  0. ,\n",
       "         0. ],\n",
       "       [ 0. ,  0. ,  0. ,  0. ,  0. ,  0. ,  0. ,  0. ,  1. ,  0. ,  0. ,\n",
       "         1.4],\n",
       "       [ 0. ,  0. ,  0. ,  0. ,  0. ,  0. ,  0. ,  0. ,  1.7,  0. ,  0. ,\n",
       "        -1.9],\n",
       "       [ 0. ,  0. ,  0. ,  0. ,  0. ,  0. , -0.5,  0.9,  0. ,  0. ,  0. ,\n",
       "         0. ],\n",
       "       [ 0. ,  0. ,  1.2,  0. ,  0. ,  0. ,  0. ,  0. ,  0. ,  0. ,  0. ,\n",
       "        -1.5],\n",
       "       [ 0. ,  1.3,  0. ,  0. ,  0.6,  0. ,  0. ,  0. ,  0. ,  0. ,  0. ,\n",
       "        -1.6],\n",
       "       [ 0. ,  0. ,  0. ,  0. ,  0. ,  0. ,  0. ,  0. ,  1.6,  0. ,  0. ,\n",
       "        -1.4],\n",
       "       [ 0. ,  0.8,  0. ,  0. ,  0. ,  0. ,  0. ,  0. ,  1.9,  0. ,  0. ,\n",
       "        -0.9],\n",
       "       [ 0. ,  0. ,  0. ,  0. ,  0. ,  0. ,  0. ,  0. ,  0. ,  0. ,  0. ,\n",
       "         0. ],\n",
       "       [ 0.8,  0.8,  0. , -1.9,  0. ,  0. , -0.6,  1.1,  1.8,  0. ,  0. ,\n",
       "         0. ],\n",
       "       [ 0. ,  0. , -1.5,  0. ,  1.5,  0. ,  2. ,  0. ,  0. ,  0. ,  0. ,\n",
       "         0. ],\n",
       "       [ 0. ,  0. ,  0. ,  0. ,  0. ,  0. ,  0. ,  0. ,  0. ,  0. ,  0. ,\n",
       "         0. ]])"
      ]
     },
     "execution_count": 148,
     "metadata": {},
     "output_type": "execute_result"
    }
   ],
   "source": [
    "s"
   ]
  },
  {
   "cell_type": "code",
   "execution_count": null,
   "metadata": {},
   "outputs": [],
   "source": []
  }
 ],
 "metadata": {
  "kernelspec": {
   "display_name": "Python 3",
   "language": "python",
   "name": "python3"
  },
  "language_info": {
   "codemirror_mode": {
    "name": "ipython",
    "version": 3
   },
   "file_extension": ".py",
   "mimetype": "text/x-python",
   "name": "python",
   "nbconvert_exporter": "python",
   "pygments_lexer": "ipython3",
   "version": "3.8.0"
  }
 },
 "nbformat": 4,
 "nbformat_minor": 4
}
