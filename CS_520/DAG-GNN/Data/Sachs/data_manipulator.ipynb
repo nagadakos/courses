{
 "cells": [
  {
   "cell_type": "code",
   "execution_count": 1,
   "metadata": {},
   "outputs": [],
   "source": [
    "import pickle as pkl\n",
    "import pandas as pk\n",
    "import numpy as np\n",
    "import networkx as nx\n",
    "import csv\n"
   ]
  },
  {
   "cell_type": "code",
   "execution_count": 119,
   "metadata": {},
   "outputs": [],
   "source": [
    "file = '1. cd3cd28.xls'\n",
    "graphFile = 'ground_truth_graph.txt'\n",
    "df = pd.read_excel(file, header = None)\n",
    "\n",
    "df2 = pd.read_csv(graphFile, header = None)"
   ]
  },
  {
   "cell_type": "code",
   "execution_count": 124,
   "metadata": {},
   "outputs": [
    {
     "name": "stdout",
     "output_type": "stream",
     "text": [
      "[0. 1. 0. 0. 0. 0. 0. 0. 0. 0. 0.] (11,)\n",
      "[0. 0. 0. 0. 0. 1. 0. 0. 0. 0. 0.] (11,)\n",
      "[0. 0. 0. 1. 1. 0. 0. 0. 0. 0. 0.] (11,)\n",
      "[0. 0. 0. 0. 0. 0. 0. 0. 0. 0. 0.] (11,)\n",
      "[0. 0. 0. 1. 0. 0. 0. 0. 0. 0. 0.] (11,)\n",
      "[0. 0. 0. 0. 0. 0. 1. 0. 0. 0. 0.] (11,)\n",
      "[0. 0. 0. 0. 0. 0. 0. 0. 0. 0. 0.] (11,)\n",
      "[1. 1. 0. 0. 0. 1. 1. 0. 0. 1. 1.] (11,)\n",
      "[1. 1. 0. 0. 0. 0. 0. 1. 0. 1. 1.] (11,)\n",
      "[0. 0. 0. 0. 0. 0. 0. 0. 0. 0. 0.] (11,)\n",
      "[0. 0. 0. 0. 0. 0. 0. 0. 0. 0. 0.] (11,)\n",
      "11\n"
     ]
    }
   ],
   "source": [
    "# Discard Headers and turn to list for storage\n",
    "table = df.to_numpy()[1:,:].tolist()\n",
    "graph = df2.values.tolist()\n",
    "g = np.zeros((11,11))\n",
    "for i, row in enumerate(graph):\n",
    "    if i > 0:\n",
    "        r = row[0].split(' ')[1:]\n",
    "        r = [float(i) for i in r if i != '']\n",
    "        print(np.array(r), np.array(r).shape)\n",
    "        g[i-1,:] = np.array(r)\n",
    "        \n",
    "        \n",
    "print(len(table[1]))"
   ]
  },
  {
   "cell_type": "code",
   "execution_count": 121,
   "metadata": {},
   "outputs": [],
   "source": [
    "with open('data1.pkl','wb') as f:\n",
    "    pkl.dump(table, f)\n",
    "    \n",
    "with open('data1_graph.pkl','wb') as f:\n",
    "    pkl.dump(g, f)"
   ]
  },
  {
   "cell_type": "code",
   "execution_count": 151,
   "metadata": {},
   "outputs": [],
   "source": [
    "dataFolder1 = '../Synthetic_data/gaussian_different_noise_var/'\n",
    "dataFolder2 = '../Synthetic_data/gaussian_same_noise_var/'\n",
    "dataFolder3 = '../Synthetic_data/lingam_different_noise_var/'\n",
    "dataFolder4 = '../Synthetic_data/lingam_same_noise_var/'\n",
    "dFolders = [dataFolder1, dataFolder2, dataFolder3, dataFolder4 ]\n",
    "\n",
    "for folder in dFolders:\n",
    "    cDAG1 = np.load(folder +'DAG.npy')\n",
    "    data1 = np.load(folder+'data.npy')\n",
    "    with open(folder+'data.pkl', 'wb') as f:\n",
    "        pkl.dump(data1, f)\n",
    "    with open(folder+'data_graph.pkl', 'wb') as f:\n",
    "        pkl.dump(cDAG1, f)"
   ]
  },
  {
   "cell_type": "code",
   "execution_count": 146,
   "metadata": {},
   "outputs": [],
   "source": [
    "with open(dataFolder1+'data.pkl', 'wb') as f:\n",
    "    pkl.dump(data1, f)\n",
    "with open(dataFolder1+'data_graph.pkl', 'wb') as f:\n",
    "    pkl.dump(cDAG1, f)"
   ]
  },
  {
   "cell_type": "code",
   "execution_count": 147,
   "metadata": {},
   "outputs": [],
   "source": [
    "s = np.load('../../src/trueG_halted2.npy')"
   ]
  },
  {
   "cell_type": "markdown",
   "metadata": {},
   "source": [
    "### Heinze-Deml Conversion"
   ]
  },
  {
   "cell_type": "code",
   "execution_count": 5,
   "metadata": {},
   "outputs": [
    {
     "name": "stdout",
     "output_type": "stream",
     "text": [
      "Data from ../Heinze-Deml/graph_01/ is of shape: (1000, 12)\n",
      "Data from ../Heinze-Deml/graph_02/ is of shape: (1000, 12)\n",
      "Data from ../Heinze-Deml/graph_03/ is of shape: (1000, 12)\n",
      "Data from ../Heinze-Deml/graph_04/ is of shape: (1000, 12)\n",
      "Data from ../Heinze-Deml/gaussian/ is of shape: (1000, 12)\n",
      "Data from ../Heinze-Deml/hiddenVariables/ is of shape: (1000, 12)\n"
     ]
    }
   ],
   "source": [
    "dataFolder1 = '../Heinze-Deml/graph_01/'\n",
    "dataFolder2 = '../Heinze-Deml/graph_02/'\n",
    "dataFolder3 = '../Heinze-Deml/graph_03/'\n",
    "dataFolder4 = '../Heinze-Deml/graph_04/'\n",
    "dataFolder5 = '../Heinze-Deml/gaussian/'\n",
    "dataFolder6 = '../Heinze-Deml/hiddenVariables/'\n",
    "dFolders = [dataFolder1, dataFolder2, dataFolder3, dataFolder4, dataFolder5, dataFolder6 ]\n",
    "\n",
    "for folder in dFolders:\n",
    "    cDAG1 = np.load(folder +'DAG.npy')\n",
    "    data1 = np.load(folder+'data.npy')\n",
    "    print(\"Data from {} is of shape: {}\".format(folder, data1.shape))\n",
    "    with open(folder+'data.pkl', 'wb') as f:\n",
    "        pkl.dump(data1, f)\n",
    "    with open(folder+'data_graph.pkl', 'wb') as f:\n",
    "        pkl.dump(cDAG1, f)"
   ]
  },
  {
   "cell_type": "code",
   "execution_count": 11,
   "metadata": {},
   "outputs": [],
   "source": [
    "d = np.load('../../src/Results/mmhc_sachs_data_1.npy')\n",
    "np.savetxt('../../src/Results/mmhc_sachs_data_1.txt', d, fmt = '%.3e')"
   ]
  },
  {
   "cell_type": "markdown",
   "metadata": {},
   "source": [
    "## Small Datasets"
   ]
  },
  {
   "cell_type": "code",
   "execution_count": 4,
   "metadata": {},
   "outputs": [
    {
     "name": "stdout",
     "output_type": "stream",
     "text": [
      "Data from ../Small_Datasets/d5_Gauss_01/ is of shape: (1000, 5)\n",
      "Data from ../Small_Datasets/d5_Gauss_02/ is of shape: (1000, 5)\n",
      "Data from ../Small_Datasets/d5_Gauss_03/ is of shape: (1000, 5)\n",
      "Data from ../Small_Datasets/d5_nonGauss_01/ is of shape: (1000, 5)\n",
      "Data from ../Small_Datasets/d5_nonGauss_01/ is of shape: (1000, 5)\n",
      "Data from ../Small_Datasets/d5_nonGauss_01/ is of shape: (1000, 5)\n",
      "Data from ../Small_Datasets/d5_nonGauss_hidden_01/ is of shape: (1000, 5)\n",
      "Data from ../Small_Datasets/d5_nonGauss_hidden_02/ is of shape: (1000, 5)\n",
      "Data from ../Small_Datasets/d5_nonGauss_hidden_03/ is of shape: (1000, 5)\n"
     ]
    }
   ],
   "source": [
    "dataFolder1 = '../Small_Datasets/d5_Gauss_01/'\n",
    "dataFolder2 = '../Small_Datasets/d5_Gauss_02/'\n",
    "dataFolder3 = '../Small_Datasets/d5_Gauss_03/'\n",
    "dataFolder4 = '../Small_Datasets/d5_nonGauss_01/'\n",
    "dataFolder5 = '../Small_Datasets/d5_nonGauss_01/'\n",
    "dataFolder6 = '../Small_Datasets/d5_nonGauss_01/'\n",
    "dataFolder7 = '../Small_Datasets/d5_nonGauss_hidden_01/'\n",
    "dataFolder8 = '../Small_Datasets/d5_nonGauss_hidden_02/'\n",
    "dataFolder9 = '../Small_Datasets/d5_nonGauss_hidden_03/'\n",
    "dFolders = [dataFolder1, dataFolder2, dataFolder3, dataFolder4, dataFolder5, dataFolder6, dataFolder7, dataFolder8, dataFolder9 ]\n",
    "\n",
    "for folder in dFolders:\n",
    "    cDAG1 = np.load(folder +'DAG.npy')\n",
    "    data1 = np.load(folder+'data.npy')\n",
    "    print(\"Data from {} is of shape: {}\".format(folder, data1.shape))\n",
    "    with open(folder+'data.pkl', 'wb') as f:\n",
    "        pkl.dump(data1, f)\n",
    "    with open(folder+'data_graph.pkl', 'wb') as f:\n",
    "        pkl.dump(cDAG1, f)"
   ]
  },
  {
   "cell_type": "code",
   "execution_count": null,
   "metadata": {},
   "outputs": [],
   "source": []
  }
 ],
 "metadata": {
  "kernelspec": {
   "display_name": "Python 3",
   "language": "python",
   "name": "python3"
  },
  "language_info": {
   "codemirror_mode": {
    "name": "ipython",
    "version": 3
   },
   "file_extension": ".py",
   "mimetype": "text/x-python",
   "name": "python",
   "nbconvert_exporter": "python",
   "pygments_lexer": "ipython3",
   "version": "3.8.0"
  }
 },
 "nbformat": 4,
 "nbformat_minor": 4
}
