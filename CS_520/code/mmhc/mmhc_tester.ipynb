{
 "cells": [
  {
   "cell_type": "code",
   "execution_count": 1,
   "metadata": {},
   "outputs": [],
   "source": [
    "import pandas as pd\n",
    "import numpy as np\n",
    "from pgmpy.estimators import HillClimbSearch, BicScore, K2Score\n",
    "import os"
   ]
  },
  {
   "cell_type": "code",
   "execution_count": 2,
   "metadata": {},
   "outputs": [
    {
     "name": "stdout",
     "output_type": "stream",
     "text": [
      "            A         B         C         D         E         F         G  \\\n",
      "0    0.035406  0.039974  0.053771  0.069875  0.028436  0.077679  0.062940   \n",
      "1    0.024539  0.027288  0.025889  0.032732  0.004984  0.437946  0.554930   \n",
      "2    0.091265  0.098610  0.037009  0.045334  0.024951  0.102232  0.095784   \n",
      "3    0.032146  0.033490  0.057800  0.071755  0.017524  0.307143  0.333735   \n",
      "4    0.029972  0.034759  0.014462  0.017698  0.043322  0.205357  0.257993   \n",
      "..        ...       ...       ...       ...       ...       ...       ...   \n",
      "718  0.081701  0.086770  0.208655  0.209936  0.105537  0.295982  0.343120   \n",
      "719  0.078659  0.075635  0.044746  0.044450  0.013648  0.220982  0.192305   \n",
      "720  0.045187  0.044766  0.037976  0.048761  0.022997  0.037455  0.011395   \n",
      "721  0.254928  0.260705  0.024922  0.030079  0.009642  0.407143  0.371942   \n",
      "722  0.297529  0.263102  0.172715  0.217674  0.268730  0.199554  0.203700   \n",
      "\n",
      "            H         I         J         K  \n",
      "0    0.032829  0.057205  0.065685  0.027311  \n",
      "1    0.103947  0.842857  0.857996  0.443634  \n",
      "2    0.013882  0.056149  0.063281  0.040003  \n",
      "3    0.052500  0.842857  0.922118  1.000000  \n",
      "4    0.167105  0.042733  0.054597  0.085697  \n",
      "..        ...       ...       ...       ...  \n",
      "718  0.190789  0.030994  0.037498  0.037253  \n",
      "719  0.045000  0.139130  0.166945  0.125045  \n",
      "720  0.004737  0.002776  0.003326  0.065389  \n",
      "721  0.142763  0.026025  0.032823  0.047408  \n",
      "722  0.037697  0.030435  0.033891  0.048888  \n",
      "\n",
      "[723 rows x 11 columns]\n"
     ]
    }
   ],
   "source": [
    "def to_adjascency_mat(edges, numOfNodes):\n",
    "    \n",
    "    m = np.zeros((numOfNodes, numOfNodes))\n",
    "    \n",
    "    for e in edges:\n",
    "        i, j = e[0], e[1]\n",
    "        m[i-1,j-1] = 1\n",
    "    return m\n",
    "\n",
    "# Crate target filename and Load data\n",
    "#dataFile = '../Data/Sachs/1. cd3cd28.xls'\n",
    "origFolder = ''\n",
    "genProc = '4'\n",
    "dataFile = os.path.join('.', 'Data', origFolder, genProc, 'data.npy')\n",
    "fileType = dataFile.split('.')[-1]\n",
    "# Use appropriate laoding procedure according to file type\n",
    "if fileType == 'xls':\n",
    "    df = pd.read_excel(dataFile)\n",
    "elif fileType == 'npy' or fileType == 'txt':\n",
    "    data = np.load(dataFile)\n",
    "    df = pd.DataFrame(data).astype(np.float32)\n",
    "\n",
    "# Construct columns and normalize them for convergence speed\n",
    "df.columns = list('ABCDEFGHIJK') #[i for i in range(0, df.shape[1])] # REname columns to numbers for easy of use and readability\n",
    "normalized_df=((df-df.min())/(df.max()-df.min())).astype(np.float32)\n",
    "#print(normalized_df, df.max())\n",
    "#data = normalized_df.to_numpy()\n",
    "print(normalized_df)\n",
    "#print(data)"
   ]
  },
  {
   "cell_type": "code",
   "execution_count": 3,
   "metadata": {
    "jupyter": {
     "outputs_hidden": true,
     "source_hidden": true
    },
    "scrolled": true
   },
   "outputs": [
    {
     "name": "stderr",
     "output_type": "stream",
     "text": [
      " 40%|████      | 4/10 [02:06<03:09, 31.65s/it]\n"
     ]
    }
   ],
   "source": [
    "# create data sample with 9 random variables:\n",
    "d = 5\n",
    "randArr = np.random.uniform(low=0, high=1, size=(500, d))\n",
    "#randArr = np.random.randint(0, 5, size=(1000, d))\n",
    "data = pd.DataFrame(randArr, columns=list('ABCDEFGHIJKLMNOPQRSTUVWXYZ')[:d])\n",
    "\n",
    "# add 10th dependent variable\n",
    "data['C'] = data['A'] * data['B']\n",
    "\n",
    "#print(df)\n",
    "est = HillClimbSearch(data, scoring_method=BicScore(data))\n",
    "#best_model = est.estimate(max_iter=10)\n",
    "best_model = None\n",
    "best_model = est.estimate(max_indegree=2, max_iter=10)\n",
    "#print(sorted(best_model.nodes()))\n",
    "#print(best_model.edges())\n",
    "#j = list(best_model.edges())\n",
    "# search a model with restriction on the number of parents:\n",
    "#est.estimate(max_indegree=1).edges()\n"
   ]
  },
  {
   "cell_type": "code",
   "execution_count": 4,
   "metadata": {},
   "outputs": [
    {
     "name": "stdout",
     "output_type": "stream",
     "text": [
      "[('B', 'C'), ('B', 'A'), ('D', 'E'), ('E', 'B')]\n"
     ]
    }
   ],
   "source": [
    "print(best_model.edges())"
   ]
  },
  {
   "cell_type": "code",
   "execution_count": 4,
   "metadata": {
    "scrolled": false
   },
   "outputs": [
    {
     "name": "stderr",
     "output_type": "stream",
     "text": [
      "100%|██████████| 10/10 [02:36<00:00, 15.69s/it]\n"
     ]
    }
   ],
   "source": [
    "est = HillClimbSearch(normalized_df, scoring_method=BicScore(normalized_df))\n",
    "best_model = est.estimate(max_indegree=2,max_iter=10)"
   ]
  },
  {
   "cell_type": "code",
   "execution_count": null,
   "metadata": {},
   "outputs": [],
   "source": [
    "def alpha_to_num(L):\n",
    "    letters = list('ABCDEFGHIJKLMNOP')\n",
    "    for i in range(len(letters)):\n",
    "        if L == letters[i]:\n",
    "            return i\n",
    "    return -1\n",
    "print(best_model.edges())\n",
    "\n",
    "l = best_model.edges()\n",
    "\n",
    "l2 = [ (alpha_to_num(x),alpha_to_num(y)) for x,y in l ]\n",
    "print(l2)"
   ]
  },
  {
   "cell_type": "code",
   "execution_count": 9,
   "metadata": {
    "jupyter": {
     "outputs_hidden": true
    }
   },
   "outputs": [
    {
     "name": "stdout",
     "output_type": "stream",
     "text": [
      "[[0. 0. 0. 0. 0. 1. 0. 0. 0. 0. 0.]\n",
      " [0. 0. 0. 0. 0. 0. 0. 0. 0. 0. 0.]\n",
      " [0. 1. 0. 0. 0. 0. 0. 0. 0. 0. 1.]\n",
      " [0. 0. 1. 0. 0. 0. 0. 0. 0. 0. 0.]\n",
      " [0. 0. 0. 1. 0. 0. 0. 0. 0. 0. 0.]\n",
      " [0. 0. 0. 0. 0. 0. 0. 0. 0. 0. 0.]\n",
      " [0. 0. 0. 0. 0. 0. 0. 0. 1. 0. 0.]\n",
      " [0. 0. 0. 0. 0. 0. 0. 0. 0. 1. 0.]\n",
      " [0. 0. 0. 0. 0. 0. 0. 1. 0. 0. 0.]\n",
      " [0. 0. 0. 0. 0. 0. 0. 0. 0. 0. 0.]\n",
      " [1. 0. 0. 0. 0. 0. 1. 0. 0. 0. 0.]]\n"
     ]
    }
   ],
   "source": [
    "\n",
    "\n",
    "m = to_adjascency_mat(l2, 11)\n",
    "#saveFileBase = './Results/mmhc_sachs_data_1'\n",
    "saveFileBase = './Results'\n",
    "saveFile = os.path.join(saveFileBase, '_'.join(('mmhc', genProc, 'predG')))\n",
    "np.save(saveFileBase+'.npy', m)\n",
    "np.savetxt(saveFileBase, m)\n",
    "print(m)"
   ]
  },
  {
   "cell_type": "code",
   "execution_count": null,
   "metadata": {},
   "outputs": [],
   "source": [
    "from rpy2.robjects import default_converter\n",
    "from rpy2.robjects import pandas2ri\n",
    "from rpy2.robjects.conversion import localconverter\n",
    "\n",
    "# use the default conversion rules to which the pandas conversion\n",
    "# is added\n",
    "with localconverter(default_converter + pandas2ri.converter) as cv:\n",
    "    dataf = robjects.r[\"data\"]"
   ]
  }
 ],
 "metadata": {
  "kernelspec": {
   "display_name": "Python 3",
   "language": "python",
   "name": "python3"
  },
  "language_info": {
   "codemirror_mode": {
    "name": "ipython",
    "version": 3
   },
   "file_extension": ".py",
   "mimetype": "text/x-python",
   "name": "python",
   "nbconvert_exporter": "python",
   "pygments_lexer": "ipython3",
   "version": "3.6.12"
  }
 },
 "nbformat": 4,
 "nbformat_minor": 4
}
